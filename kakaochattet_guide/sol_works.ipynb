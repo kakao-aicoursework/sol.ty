{
 "cells": [
  {
   "cell_type": "code",
   "execution_count": 3,
   "outputs": [],
   "source": [
    "import chromadb\n",
    "import openai\n",
    "import os"
   ],
   "metadata": {
    "collapsed": false,
    "ExecuteTime": {
     "start_time": "2023-12-12T19:18:19.073131Z",
     "end_time": "2023-12-12T19:18:19.076022Z"
    }
   }
  },
  {
   "cell_type": "code",
   "execution_count": 2,
   "outputs": [],
   "source": [
    "openai.api_key = \"\""
   ],
   "metadata": {
    "collapsed": false,
    "ExecuteTime": {
     "start_time": "2023-12-12T18:12:21.378954Z",
     "end_time": "2023-12-12T18:12:21.385977Z"
    }
   }
  },
  {
   "cell_type": "code",
   "execution_count": 3,
   "outputs": [],
   "source": [
    "question = \"카카오싱크 기능이 무엇이 있는지 설명해주세요\""
   ],
   "metadata": {
    "collapsed": false,
    "ExecuteTime": {
     "start_time": "2023-12-12T18:12:21.388320Z",
     "end_time": "2023-12-12T18:12:21.394444Z"
    }
   }
  },
  {
   "cell_type": "markdown",
   "source": [
    "# Zero-shot"
   ],
   "metadata": {
    "collapsed": false
   }
  },
  {
   "cell_type": "code",
   "execution_count": 4,
   "metadata": {
    "collapsed": true,
    "ExecuteTime": {
     "start_time": "2023-12-12T18:12:21.393767Z",
     "end_time": "2023-12-12T18:12:21.397861Z"
    }
   },
   "outputs": [],
   "source": [
    "# 추후 f-string에서 prompt_template 형태로 변경 필요\n",
    "audience_knowledge_level = \"moderate\"\n",
    "\n",
    "SYSTEM_MSG = f\"\"\"\n",
    "You are a provide of Kakao service.\n",
    "\n",
    "- Role: Explain about Kakao API\n",
    "- Audience's language: Korean\n",
    "- Audience's knowledge level: {audience_knowledge_level}\n",
    "\"\"\""
   ]
  },
  {
   "cell_type": "code",
   "execution_count": 5,
   "outputs": [
    {
     "name": "stdout",
     "output_type": "stream",
     "text": [
      "카카오싱크는 카카오 계정을 이용하여 로그인 및 회원가입을 간편하게 할 수 있는 기능입니다. 카카오싱크를 통해 다음과 같은 기능을 제공할 수 있습니다:\n",
      "\n",
      "1. 카카오 계정으로 간편 로그인: 사용자는 카카오 계정으로 로그인하여 다른 서비스에 별도의 회원가입 절차 없이 간편하게 로그인할 수 있습니다.\n",
      "\n",
      "2. 카카오 프로필 정보 활용: 카카오싱크를 통해 사용자의 카카오 프로필 정보를 활용할 수 있습니다. 이를 통해 사용자의 이름, 프로필 사진 등을 가져와서 서비스에 적용할 수 있습니다.\n",
      "\n",
      "3. 추가 동의 항목 설정: 카카오싱크를 통해 사용자에게 추가 동의 항목을 설정할 수 있습니다. 예를 들어, 서비스 이용 약관에 동의하거나 개인정보 제3자 제공에 동의하는 등의 항목을 설정할 수 있습니다.\n",
      "\n",
      "4. 카카오 플러스친구 연동: 카카오싱크를 통해 사용자를 카카오 플러스친구에 자동으로 추가할 수 있습니다. 이를 통해 사용자와의 소통을 강화하고, 푸시 알림 등을 통해 서비스 이용에 도움을 줄 수 있습니다.\n",
      "\n",
      "5. 결제 기능 제공: 카카오싱크를 통해 사용자는 카카오페이를 이용하여 간편하게 결제할 수 있습니다. 이를 통해 사용자의 결제 과정을 간소화하고, 편리한 결제 서비스를 제공할 수 있습니다.\n",
      "\n",
      "카카오싱크는 사용자의 편의성을 높이고, 서비스 제공자에게는 사용자 정보를 활용하여 개인 맞춤형 서비스를 제공할 수 있는 기능입니다.\n"
     ]
    }
   ],
   "source": [
    "# ===================== start =================================\n",
    "response = openai.ChatCompletion.create(\n",
    "model=\"gpt-3.5-turbo\",\n",
    "    messages=[\n",
    "        {\"role\": \"system\", \"content\": SYSTEM_MSG},\n",
    "        {\"role\": \"user\", \"content\": question},\n",
    "    ],\n",
    "    temperature=0,\n",
    ")\n",
    "# focus\n",
    "guide = response.choices[0].message.content\n",
    "\n",
    "print(guide)"
   ],
   "metadata": {
    "collapsed": false,
    "ExecuteTime": {
     "start_time": "2023-12-12T18:12:21.407392Z",
     "end_time": "2023-12-12T18:12:36.531860Z"
    }
   }
  },
  {
   "cell_type": "markdown",
   "source": [
    "# Prompt template 활용한 zeroshot\n",
    "\n",
    "- 외부 `*.txt` 파일을 이용해 프롬프트 템플릿을 만들고 이를 활용"
   ],
   "metadata": {
    "collapsed": false
   }
  },
  {
   "cell_type": "code",
   "execution_count": 6,
   "outputs": [],
   "source": [
    "def read_prompt_template(file_path: str) -> str:\n",
    "    with open(file_path, \"r\") as f:\n",
    "        prompt_template = f.read()\n",
    "\n",
    "    return prompt_template"
   ],
   "metadata": {
    "collapsed": false,
    "ExecuteTime": {
     "start_time": "2023-12-12T18:12:36.531145Z",
     "end_time": "2023-12-12T18:12:36.535163Z"
    }
   }
  },
  {
   "cell_type": "code",
   "execution_count": 7,
   "outputs": [],
   "source": [
    "def request_gpt_api(system_prompt, user_prompt):\n",
    "    response = openai.ChatCompletion.create(\n",
    "    model=\"gpt-3.5-turbo\",\n",
    "        messages=[\n",
    "            {\"role\": \"system\", \"content\": system_prompt},\n",
    "            {\"role\": \"user\", \"content\": user_prompt},\n",
    "        ],\n",
    "        temperature=0,\n",
    "    )\n",
    "\n",
    "    return response.choices[0].message.content"
   ],
   "metadata": {
    "collapsed": false,
    "ExecuteTime": {
     "start_time": "2023-12-12T18:12:36.537077Z",
     "end_time": "2023-12-12T18:12:36.540102Z"
    }
   }
  },
  {
   "cell_type": "code",
   "execution_count": 8,
   "outputs": [
    {
     "name": "stdout",
     "output_type": "stream",
     "text": [
      "카카오싱크는 카카오 계정을 이용하여 다양한 서비스에 간편하게 가입하고 로그인할 수 있는 기능입니다. 카카오싱크를 통해 제공되는 주요 기능은 다음과 같습니다.\n",
      "\n",
      "1. 간편한 가입 및 로그인: 카카오 계정을 이용하여 간편하게 가입하고 로그인할 수 있습니다. 사용자는 별도의 아이디와 비밀번호를 입력할 필요 없이 카카오 계정으로 로그인할 수 있습니다.\n",
      "\n",
      "2. 개인정보 제공 동의 관리: 카카오싱크를 통해 사용자의 개인정보 제공 동의를 관리할 수 있습니다. 서비스 제공자는 사용자로부터 필요한 개인정보 제공 동의를 받을 수 있으며, 사용자는 언제든지 동의를 철회할 수 있습니다.\n",
      "\n",
      "3. 카카오톡 채널 추가: 카카오싱크를 통해 사용자가 서비스에 가입하면 자동으로 카카오톡 채널에 추가됩니다. 이를 통해 서비스 제공자는 카카오톡을 통해 사용자와 소통할 수 있습니다.\n",
      "\n",
      "4. 사용자 정보 활용: 카카오싱크를 통해 제공되는 사용자 정보를 활용하여 개인 맞춤형 서비스를 제공할 수 있습니다. 예를 들어, 사용자의 프로필 정보를 활용하여 맞춤형 추천 기능을 제공할 수 있습니다.\n",
      "\n",
      "5. 카카오싱크 플러스친구: 카카오싱크를 통해 가입한 사용자는 자동으로 카카오싱크 플러스친구로 추가됩니다. 이를 통해 서비스 제공자는 카카오톡을 통해 사용자와 소통하고, 다양한 마케팅 활동을 할 수 있습니다.\n",
      "\n",
      "카카오싱크는 사용자의 편의성을 높이고 개인정보 보호를 강화하는 기능을 제공하여 서비스 제공자와 사용자 모두에게 많은 이점을 제공합니다.\n"
     ]
    }
   ],
   "source": [
    "audience_knowledge_level = \"moderate\"\n",
    "\n",
    "STEP1_PROMPT_TEMPLATE = \"./prompts/1_zeroshot/template_1.txt\"\n",
    "\n",
    "SYSTEM_PROMPT_TEMPLATE = os.path.join(STEP1_PROMPT_TEMPLATE)\n",
    "system_prompt_template = read_prompt_template(SYSTEM_PROMPT_TEMPLATE)\n",
    "system_prompt = system_prompt_template.format(\n",
    "    knowledge_level=\"moderate\"\n",
    ")\n",
    "\n",
    "guide = request_gpt_api(system_prompt, user_prompt=question)\n",
    "\n",
    "print(guide)"
   ],
   "metadata": {
    "collapsed": false,
    "ExecuteTime": {
     "start_time": "2023-12-12T18:12:36.541899Z",
     "end_time": "2023-12-12T18:12:54.171080Z"
    }
   }
  },
  {
   "cell_type": "markdown",
   "source": [
    "# Manual chain 구성\n",
    "\n",
    "- zeroshot에서 여러 template으로 만든 프롬프트 I/O를 수동으로 이어준 형태인 manual chain (가칭)으로 변경한다."
   ],
   "metadata": {
    "collapsed": false
   }
  },
  {
   "cell_type": "code",
   "execution_count": 9,
   "outputs": [
    {
     "name": "stdout",
     "output_type": "stream",
     "text": [
      "카카오싱크는 카카오 계정을 이용하여 다양한 서비스에 간편하게 가입하고 로그인할 수 있는 기능입니다. 카카오싱크를 통해 제공되는 주요 기능은 다음과 같습니다:\n",
      "\n",
      "1. 간편한 회원가입 및 로그인: 카카오 계정을 이용하여 간편하게 회원가입하고 로그인할 수 있습니다. 이를 통해 사용자는 별도의 아이디와 비밀번호를 기억하지 않아도 됩니다.\n",
      "\n",
      "2. 개인정보 제공 동의 관리: 사용자는 카카오싱크를 통해 제공되는 서비스에 대한 개인정보 제공에 대한 동의를 관리할 수 있습니다. 이를 통해 사용자는 자신의 개인정보를 보다 안전하게 관리할 수 있습니다.\n",
      "\n",
      "3. 플러스친구 자동 추가: 카카오싱크를 통해 가입한 사용자는 자동으로 해당 서비스의 플러스친구로 추가됩니다. 이를 통해 서비스와 사용자 간의 소통이 원활해집니다.\n",
      "\n",
      "4. 공유 및 메시지 전송 기능: 카카오싱크를 통해 사용자는 서비스 내에서 친구에게 공유할 수 있으며, 메시지를 전송할 수도 있습니다. 이를 통해 사용자 간의 소셜 네트워크가 형성됩니다.\n",
      "\n",
      "5. 개인정보 보호 강화: 카카오싱크는 개인정보 보호를 위해 다양한 보안 기능을 제공합니다. 사용자의 개인정보는 안전하게 보호되며, 서비스 제공자는 개인정보 처리에 대한 법적 요건을 준수할 수 있습니다.\n",
      "\n",
      "위의 기능들은 카카오싱크의 주요 기능 중 일부입니다. 카카오싱크를 통해 사용자는 편리하고 안전한 서비스 이용을 할 수 있습니다.\n"
     ]
    }
   ],
   "source": [
    "# 유저의 지식 정도 추론\n",
    "STEP2_1_PROMPT_TEMPLATE = os.path.join(\"./prompts/2_manual_chain/template_2_1_knowledge_level.txt\")\n",
    "knowledge_level_prompt_template = read_prompt_template(STEP2_1_PROMPT_TEMPLATE)\n",
    "knowledge_level_prompt = knowledge_level_prompt_template.format()\n",
    "knowledge_level = request_gpt_api(knowledge_level_prompt, \"카카오싱크 기능이 무엇이 있는지 설명해주세요\")\n",
    "\n",
    "STEP2_2_PROMPT_TEMPLATE = os.path.join(\"./prompts/2_manual_chain/template_2_2_guide.txt\")\n",
    "guide_prompt_template = read_prompt_template(STEP2_2_PROMPT_TEMPLATE)\n",
    "guide_prompt = guide_prompt_template.format(\n",
    "    knowledge_level=knowledge_level\n",
    ")\n",
    "guide = request_gpt_api(guide_prompt, question)\n",
    "\n",
    "print(guide)"
   ],
   "metadata": {
    "collapsed": false,
    "ExecuteTime": {
     "start_time": "2023-12-12T18:12:54.174180Z",
     "end_time": "2023-12-12T18:13:26.205923Z"
    }
   }
  },
  {
   "cell_type": "markdown",
   "source": [
    "# Langchain zeroshot\n",
    "\n",
    "- Langchain 함수를 이용해 manual chain을 구현한다."
   ],
   "metadata": {
    "collapsed": false
   }
  },
  {
   "cell_type": "code",
   "execution_count": 10,
   "outputs": [],
   "source": [
    "os.environ[\"OPENAI_API_KEY\"] = openai.api_key"
   ],
   "metadata": {
    "collapsed": false,
    "ExecuteTime": {
     "start_time": "2023-12-12T18:13:26.204802Z",
     "end_time": "2023-12-12T18:13:26.221678Z"
    }
   }
  },
  {
   "cell_type": "code",
   "execution_count": 11,
   "outputs": [],
   "source": [
    "from langchain.chat_models import ChatOpenAI\n",
    "from langchain.prompts.chat import ChatPromptTemplate\n",
    "from langchain.chains import LLMChain\n",
    "from pprint import pprint\n",
    "\n",
    "def generate_guide(question, knowledge_level) -> dict[str, str]:\n",
    "    STEP3_PROMPT_TEMPLATE = \"./prompts/3_langchain_zeroshot/template_3.txt\"\n",
    "\n",
    "    kakao_expert_llm = ChatOpenAI(temperature=0.1, max_tokens=500, model=\"gpt-3.5-turbo\")\n",
    "    kakao_expert_prompt_template = ChatPromptTemplate.from_template(\n",
    "        template=read_prompt_template(STEP3_PROMPT_TEMPLATE))\n",
    "    kakao_expert_chain = LLMChain(llm=kakao_expert_llm, prompt=kakao_expert_prompt_template)\n",
    "    result = kakao_expert_chain(dict(\n",
    "        question=question,\n",
    "        knowledge_level=knowledge_level\n",
    "    ))\n",
    "\n",
    "    return result[\"text\"]"
   ],
   "metadata": {
    "collapsed": false,
    "ExecuteTime": {
     "start_time": "2023-12-12T18:13:26.206866Z",
     "end_time": "2023-12-12T18:13:26.669922Z"
    }
   }
  },
  {
   "cell_type": "code",
   "execution_count": 12,
   "outputs": [
    {
     "name": "stdout",
     "output_type": "stream",
     "text": [
      "카카오싱크는 카카오 플랫폼을 이용하는 서비스 제공자들이 사용할 수 있는 기능입니다. 카카오싱크를 통해 사용자는 카카오톡 계정으로 간편하게 로그인하고, 서비스 이용 시에도 편리한 기능을 제공받을 수 있습니다.\n",
      "\n",
      "카카오싱크의 주요 기능은 다음과 같습니다:\n",
      "\n",
      "1. 간편한 로그인: 카카오톡 계정으로 로그인할 수 있어, 사용자는 별도의 아이디와 비밀번호를 기억하지 않아도 됩니다. 이를 통해 사용자들은 더욱 편리하게 서비스를 이용할 수 있습니다.\n",
      "\n",
      "2. 개인정보 제공 동의: 카카오싱크를 통해 사용자는 개인정보 제공에 대한 동의를 간편하게 할 수 있습니다. 이를 통해 서비스 제공자는 사용자의 개인정보를 안전하게 수집하고 활용할 수 있습니다.\n",
      "\n",
      "3. 프로필 정보 활용: 카카오싱크를 통해 사용자의 프로필 정보를 활용할 수 있습니다. 이를 통해 서비스 제공자는 사용자에게 맞춤형 서비스를 제공할 수 있습니다.\n",
      "\n",
      "4. 카카오톡 채널 연결: 카카오싱크를 통해 사용자는 서비스 제공자의 카카오톡 채널과 연결할 수 있습니다. 이를 통해 서비스 제공자는 카카오톡을 통해 사용자와 소통하고, 다양한 마케팅 활동을 할 수 있습니다.\n",
      "\n",
      "5. 카카오톡\n"
     ]
    }
   ],
   "source": [
    "guide = generate_guide(\n",
    "    question=question,\n",
    "    knowledge_level=\"moderate\")\n",
    "\n",
    "print(guide)"
   ],
   "metadata": {
    "collapsed": false,
    "ExecuteTime": {
     "start_time": "2023-12-12T18:13:26.670014Z",
     "end_time": "2023-12-12T18:13:39.374876Z"
    }
   }
  },
  {
   "cell_type": "markdown",
   "source": [
    "# Langchain chain\n",
    "\n",
    "- Langchain을 이용해 LLM chain을 구현합니다"
   ],
   "metadata": {
    "collapsed": false
   }
  },
  {
   "cell_type": "code",
   "execution_count": 13,
   "outputs": [],
   "source": [
    "from langchain.chains import SequentialChain\n",
    "\n",
    "def create_chain(llm, template_path, output_key):\n",
    "    return LLMChain(\n",
    "        llm=llm,\n",
    "        prompt=ChatPromptTemplate.from_template(\n",
    "            template=read_prompt_template(template_path),\n",
    "        ),\n",
    "        output_key=output_key,\n",
    "        verbose=True,\n",
    "    )"
   ],
   "metadata": {
    "collapsed": false,
    "ExecuteTime": {
     "start_time": "2023-12-12T18:13:39.375277Z",
     "end_time": "2023-12-12T18:13:39.380081Z"
    }
   }
  },
  {
   "cell_type": "code",
   "execution_count": 14,
   "outputs": [],
   "source": [
    "def generate_guide(question) -> dict[str, str]:\n",
    "\n",
    "    STEP4_1_PROMPT_TEMPLATE = \"./prompts/4_langchain_chain/template_4_1_knowledge_level.txt\"\n",
    "    STEP4_2_PROMPT_TEMPLATE = \"./prompts/4_langchain_chain/template_4_2_guide.txt\"\n",
    "\n",
    "    kakao_expert_llm = ChatOpenAI(temperature=0.1, max_tokens=500, model=\"gpt-3.5-turbo\")\n",
    "\n",
    "    knowledge_level_chain = create_chain(kakao_expert_llm, STEP4_1_PROMPT_TEMPLATE, \"knowledge_level\")\n",
    "\n",
    "    guide_chain = create_chain(kakao_expert_llm, STEP4_2_PROMPT_TEMPLATE, \"output\")\n",
    "\n",
    "    preprocess_chain = SequentialChain(\n",
    "        chains=[\n",
    "            knowledge_level_chain,\n",
    "            guide_chain\n",
    "        ],\n",
    "        input_variables=[\"question\"],\n",
    "        output_variables=[\"knowledge_level\"],\n",
    "        verbose=True,\n",
    "    )\n",
    "\n",
    "    context = dict(\n",
    "        question=question\n",
    "    )\n",
    "    context = preprocess_chain(context)\n",
    "\n",
    "    context[\"question\"] = question\n",
    "\n",
    "    context = guide_chain(context)\n",
    "\n",
    "    return context[\"output\"]"
   ],
   "metadata": {
    "collapsed": false,
    "ExecuteTime": {
     "start_time": "2023-12-12T18:13:39.381907Z",
     "end_time": "2023-12-12T18:13:39.402370Z"
    }
   }
  },
  {
   "cell_type": "code",
   "execution_count": 15,
   "outputs": [
    {
     "name": "stdout",
     "output_type": "stream",
     "text": [
      "\n",
      "\n",
      "\u001B[1m> Entering new SequentialChain chain...\u001B[0m\n",
      "\n",
      "\n",
      "\u001B[1m> Entering new LLMChain chain...\u001B[0m\n",
      "Prompt after formatting:\n",
      "\u001B[32;1m\u001B[1;3mHuman: <persona>\n",
      "You are a provider of Kakao service.\n",
      "</persona>\n",
      "\n",
      "Please Inference user's knowledge level about Kakao API as one of three levels: novice, moderate, and expert.\u001B[0m\n",
      "\n",
      "\u001B[1m> Finished chain.\u001B[0m\n",
      "\n",
      "\n",
      "\u001B[1m> Entering new LLMChain chain...\u001B[0m\n",
      "Prompt after formatting:\n",
      "\u001B[32;1m\u001B[1;3mHuman: <persona>\n",
      "You are a provider of Kakao service.\n",
      "</persona>\n",
      "\n",
      "<question>\n",
      "카카오싱크 기능이 무엇이 있는지 설명해주세요\n",
      "</question>\n",
      "\n",
      "<user's knowledge level>\n",
      "As an AI, I cannot directly infer the user's knowledge level about Kakao API. However, I can make an educated guess based on the user's interactions and questions. If the user asks basic questions about the functionalities and usage of Kakao API, it is likely that they have a novice level of knowledge. If the user asks more specific and advanced questions, it suggests a moderate level of knowledge. Finally, if the user demonstrates a deep understanding of the API, asks complex questions, or discusses advanced topics, it indicates an expert level of knowledge.\n",
      "</user's knowledge level>\n",
      "\n",
      "Please explain about <question>, considering <user's knowledge level>\n",
      "- Audience's language: Korean\u001B[0m\n",
      "\n",
      "\u001B[1m> Finished chain.\u001B[0m\n",
      "\n",
      "\u001B[1m> Finished chain.\u001B[0m\n",
      "\n",
      "\n",
      "\u001B[1m> Entering new LLMChain chain...\u001B[0m\n",
      "Prompt after formatting:\n",
      "\u001B[32;1m\u001B[1;3mHuman: <persona>\n",
      "You are a provider of Kakao service.\n",
      "</persona>\n",
      "\n",
      "<question>\n",
      "카카오싱크 기능이 무엇이 있는지 설명해주세요\n",
      "</question>\n",
      "\n",
      "<user's knowledge level>\n",
      "As an AI, I cannot directly infer the user's knowledge level about Kakao API. However, I can make an educated guess based on the user's interactions and questions. If the user asks basic questions about the functionalities and usage of Kakao API, it is likely that they have a novice level of knowledge. If the user asks more specific and advanced questions, it suggests a moderate level of knowledge. Finally, if the user demonstrates a deep understanding of the API, asks complex questions, or discusses advanced topics, it indicates an expert level of knowledge.\n",
      "</user's knowledge level>\n",
      "\n",
      "Please explain about <question>, considering <user's knowledge level>\n",
      "- Audience's language: Korean\u001B[0m\n",
      "\n",
      "\u001B[1m> Finished chain.\u001B[0m\n",
      "카카오싱크는 카카오 플랫폼의 일환으로, 온라인 비즈니스에 카카오 계정을 활용하여 간편한 회원가입 및 로그인, 개인정보 제공 등의 기능을 제공하는 서비스입니다. 카카오싱크를 통해 사용자는 카카오 계정으로 간편하게 회원가입하고, 로그인할 수 있으며, 개인정보 제공 동의를 통해 필요한 정보를 쉽게 제공할 수 있습니다.\n",
      "\n",
      "카카오싱크의 주요 기능은 다음과 같습니다:\n",
      "\n",
      "1. 간편한 회원가입 및 로그인: 카카오 계정을 활용하여 간편하게 회원가입하고 로그인할 수 있습니다. 이를 통해 사용자는 별도의 아이디와 비밀번호를 기억하지 않아도 되며, 편리하게 서비스를 이용할 수 있습니다.\n",
      "\n",
      "2. 개인정보 제공 동의: 카카오싱크를 통해 사용자는 필요한 개인정보를 제공할 수 있습니다. 이를 통해 온라인 비즈니스는 사용자의 개인정보를 안전하게 수집하고 활용할 수 있습니다.\n",
      "\n",
      "3. 플러스친구 연동: 카카오싱크를 통해 온라인 비즈니스는 플러스친구와 연동하여 사용자와의 소통을 강화할 수 있습니다. 플러스친구를 통해 쿠폰, 이벤트 등 다양한 혜택을 제공하고, 고객과의 소통을 원활하게 할 수 있습니다.\n",
      "\n",
      "4. 공유 및 마케팅 기\n"
     ]
    }
   ],
   "source": [
    "guide = generate_guide(question)\n",
    "\n",
    "print(guide)"
   ],
   "metadata": {
    "collapsed": false,
    "ExecuteTime": {
     "start_time": "2023-12-12T18:13:39.387684Z",
     "end_time": "2023-12-12T18:14:09.950167Z"
    }
   }
  },
  {
   "cell_type": "markdown",
   "source": [
    "# chroma DB 추가"
   ],
   "metadata": {
    "collapsed": false
   }
  },
  {
   "cell_type": "markdown",
   "source": [
    "## 데이터 정제\n",
    "\n",
    "- 어떤 식으로 정제해야 할까?\n",
    "    1. 타이틀 - 컨텐츠 문단 단위\n",
    "    2. 타이틀 - 컨텐츠 줄 단위\n",
    "    3. ?"
   ],
   "metadata": {
    "collapsed": false
   }
  },
  {
   "cell_type": "code",
   "execution_count": 32,
   "outputs": [],
   "source": [
    "def read_txt(file_path: str) -> str:\n",
    "    with open(file_path, \"r\") as f:\n",
    "        data = f.read()\n",
    "\n",
    "    return data"
   ],
   "metadata": {
    "collapsed": false,
    "ExecuteTime": {
     "start_time": "2023-12-12T19:28:21.711379Z",
     "end_time": "2023-12-12T19:28:21.715007Z"
    }
   }
  },
  {
   "cell_type": "code",
   "execution_count": 33,
   "outputs": [],
   "source": [
    "data = read_txt(\"../data/project_data_카카오싱크.txt\")\n",
    "data = data.split(\"\\n\")\n",
    "\n",
    "\n",
    "title = \"카카오싱크\"\n",
    "contents = {}\n",
    "txt_list = []\n",
    "for txt in data:\n",
    "    if txt == \"\":\n",
    "        continue\n",
    "\n",
    "    if txt.startswith(\"#\"):\n",
    "        title = txt.replace(\"#\", \"\")\n",
    "        contents[title] = \" \".join(txt_list)\n",
    "        txt_list = []\n",
    "\n",
    "    else:\n",
    "        txt_list.append(txt)"
   ],
   "metadata": {
    "collapsed": false,
    "ExecuteTime": {
     "start_time": "2023-12-12T19:28:22.100390Z",
     "end_time": "2023-12-12T19:28:22.103126Z"
    }
   }
  },
  {
   "cell_type": "markdown",
   "source": [
    "## collection 구축"
   ],
   "metadata": {
    "collapsed": false
   }
  },
  {
   "cell_type": "code",
   "execution_count": 34,
   "outputs": [],
   "source": [
    "import chromadb"
   ],
   "metadata": {
    "collapsed": false,
    "ExecuteTime": {
     "start_time": "2023-12-12T19:28:24.262740Z",
     "end_time": "2023-12-12T19:28:24.273897Z"
    }
   }
  },
  {
   "cell_type": "code",
   "execution_count": 35,
   "outputs": [],
   "source": [
    "client = chromadb.PersistentClient()\n",
    "\n",
    "collection = client.get_or_create_collection(\n",
    "    name=\"kakao_api\",\n",
    "    metadata={\"hnsw:space\": \"cosine\"}# l2 is the default\n",
    "\n",
    ")"
   ],
   "metadata": {
    "collapsed": false,
    "ExecuteTime": {
     "start_time": "2023-12-12T19:28:25.218706Z",
     "end_time": "2023-12-12T19:28:25.226243Z"
    }
   }
  },
  {
   "cell_type": "code",
   "execution_count": 36,
   "outputs": [],
   "source": [
    "from sentence_transformers import SentenceTransformer\n",
    "model = SentenceTransformer('snunlp/KR-SBERT-V40K-klueNLI-augSTS')"
   ],
   "metadata": {
    "collapsed": false,
    "ExecuteTime": {
     "start_time": "2023-12-12T19:28:26.652163Z",
     "end_time": "2023-12-12T19:28:26.897337Z"
    }
   }
  }
 ],
 "metadata": {
  "kernelspec": {
   "display_name": "Python 3",
   "language": "python",
   "name": "python3"
  },
  "language_info": {
   "codemirror_mode": {
    "name": "ipython",
    "version": 2
   },
   "file_extension": ".py",
   "mimetype": "text/x-python",
   "name": "python",
   "nbconvert_exporter": "python",
   "pygments_lexer": "ipython2",
   "version": "2.7.6"
  }
 },
 "nbformat": 4,
 "nbformat_minor": 0
}
