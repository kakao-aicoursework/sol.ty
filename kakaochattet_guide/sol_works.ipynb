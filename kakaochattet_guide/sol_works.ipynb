{
 "cells": [
  {
   "cell_type": "code",
   "execution_count": 3,
   "outputs": [],
   "source": [
    "import chromadb\n",
    "import openai\n",
    "import os"
   ],
   "metadata": {
    "collapsed": false,
    "ExecuteTime": {
     "start_time": "2023-12-12T19:18:19.073131Z",
     "end_time": "2023-12-12T19:18:19.076022Z"
    }
   }
  },
  {
   "cell_type": "code",
   "execution_count": 2,
   "outputs": [],
   "source": [
    "openai.api_key = \"\""
   ],
   "metadata": {
    "collapsed": false,
    "ExecuteTime": {
     "start_time": "2023-12-12T18:12:21.378954Z",
     "end_time": "2023-12-12T18:12:21.385977Z"
    }
   }
  },
  {
   "cell_type": "code",
   "execution_count": 125,
   "outputs": [],
   "source": [
    "question = \"카카오싱크 기능이 무엇이 있는지 설명해주세요\""
   ],
   "metadata": {
    "collapsed": false,
    "ExecuteTime": {
     "start_time": "2023-12-13T10:33:04.272289Z",
     "end_time": "2023-12-13T10:33:04.284121Z"
    }
   }
  },
  {
   "cell_type": "markdown",
   "source": [
    "# Zero-shot"
   ],
   "metadata": {
    "collapsed": false
   }
  },
  {
   "cell_type": "code",
   "execution_count": 4,
   "metadata": {
    "collapsed": true,
    "ExecuteTime": {
     "start_time": "2023-12-12T18:12:21.393767Z",
     "end_time": "2023-12-12T18:12:21.397861Z"
    }
   },
   "outputs": [],
   "source": [
    "# 추후 f-string에서 prompt_template 형태로 변경 필요\n",
    "audience_knowledge_level = \"moderate\"\n",
    "\n",
    "SYSTEM_MSG = f\"\"\"\n",
    "You are a provide of Kakao service.\n",
    "\n",
    "- Role: Explain about Kakao API\n",
    "- Audience's language: Korean\n",
    "- Audience's knowledge level: {audience_knowledge_level}\n",
    "\"\"\""
   ]
  },
  {
   "cell_type": "code",
   "execution_count": 5,
   "outputs": [
    {
     "name": "stdout",
     "output_type": "stream",
     "text": [
      "카카오싱크는 카카오 계정을 이용하여 로그인 및 회원가입을 간편하게 할 수 있는 기능입니다. 카카오싱크를 통해 다음과 같은 기능을 제공할 수 있습니다:\n",
      "\n",
      "1. 카카오 계정으로 간편 로그인: 사용자는 카카오 계정으로 로그인하여 다른 서비스에 별도의 회원가입 절차 없이 간편하게 로그인할 수 있습니다.\n",
      "\n",
      "2. 카카오 프로필 정보 활용: 카카오싱크를 통해 사용자의 카카오 프로필 정보를 활용할 수 있습니다. 이를 통해 사용자의 이름, 프로필 사진 등을 가져와서 서비스에 적용할 수 있습니다.\n",
      "\n",
      "3. 추가 동의 항목 설정: 카카오싱크를 통해 사용자에게 추가 동의 항목을 설정할 수 있습니다. 예를 들어, 서비스 이용 약관에 동의하거나 개인정보 제3자 제공에 동의하는 등의 항목을 설정할 수 있습니다.\n",
      "\n",
      "4. 카카오 플러스친구 연동: 카카오싱크를 통해 사용자를 카카오 플러스친구에 자동으로 추가할 수 있습니다. 이를 통해 사용자와의 소통을 강화하고, 푸시 알림 등을 통해 서비스 이용에 도움을 줄 수 있습니다.\n",
      "\n",
      "5. 결제 기능 제공: 카카오싱크를 통해 사용자는 카카오페이를 이용하여 간편하게 결제할 수 있습니다. 이를 통해 사용자의 결제 과정을 간소화하고, 편리한 결제 서비스를 제공할 수 있습니다.\n",
      "\n",
      "카카오싱크는 사용자의 편의성을 높이고, 서비스 제공자에게는 사용자 정보를 활용하여 개인 맞춤형 서비스를 제공할 수 있는 기능입니다.\n"
     ]
    }
   ],
   "source": [
    "# ===================== start =================================\n",
    "response = openai.ChatCompletion.create(\n",
    "model=\"gpt-3.5-turbo\",\n",
    "    messages=[\n",
    "        {\"role\": \"system\", \"content\": SYSTEM_MSG},\n",
    "        {\"role\": \"user\", \"content\": question},\n",
    "    ],\n",
    "    temperature=0,\n",
    ")\n",
    "# focus\n",
    "guide = response.choices[0].message.content\n",
    "\n",
    "print(guide)"
   ],
   "metadata": {
    "collapsed": false,
    "ExecuteTime": {
     "start_time": "2023-12-12T18:12:21.407392Z",
     "end_time": "2023-12-12T18:12:36.531860Z"
    }
   }
  },
  {
   "cell_type": "markdown",
   "source": [
    "# Prompt template 활용한 zeroshot\n",
    "\n",
    "- 외부 `*.txt` 파일을 이용해 프롬프트 템플릿을 만들고 이를 활용"
   ],
   "metadata": {
    "collapsed": false
   }
  },
  {
   "cell_type": "code",
   "execution_count": 6,
   "outputs": [],
   "source": [
    "def read_prompt_template(file_path: str) -> str:\n",
    "    with open(file_path, \"r\") as f:\n",
    "        prompt_template = f.read()\n",
    "\n",
    "    return prompt_template"
   ],
   "metadata": {
    "collapsed": false,
    "ExecuteTime": {
     "start_time": "2023-12-12T18:12:36.531145Z",
     "end_time": "2023-12-12T18:12:36.535163Z"
    }
   }
  },
  {
   "cell_type": "code",
   "execution_count": 7,
   "outputs": [],
   "source": [
    "def request_gpt_api(system_prompt, user_prompt):\n",
    "    response = openai.ChatCompletion.create(\n",
    "    model=\"gpt-3.5-turbo\",\n",
    "        messages=[\n",
    "            {\"role\": \"system\", \"content\": system_prompt},\n",
    "            {\"role\": \"user\", \"content\": user_prompt},\n",
    "        ],\n",
    "        temperature=0,\n",
    "    )\n",
    "\n",
    "    return response.choices[0].message.content"
   ],
   "metadata": {
    "collapsed": false,
    "ExecuteTime": {
     "start_time": "2023-12-12T18:12:36.537077Z",
     "end_time": "2023-12-12T18:12:36.540102Z"
    }
   }
  },
  {
   "cell_type": "code",
   "execution_count": 8,
   "outputs": [
    {
     "name": "stdout",
     "output_type": "stream",
     "text": [
      "카카오싱크는 카카오 계정을 이용하여 다양한 서비스에 간편하게 가입하고 로그인할 수 있는 기능입니다. 카카오싱크를 통해 제공되는 주요 기능은 다음과 같습니다.\n",
      "\n",
      "1. 간편한 가입 및 로그인: 카카오 계정을 이용하여 간편하게 가입하고 로그인할 수 있습니다. 사용자는 별도의 아이디와 비밀번호를 입력할 필요 없이 카카오 계정으로 로그인할 수 있습니다.\n",
      "\n",
      "2. 개인정보 제공 동의 관리: 카카오싱크를 통해 사용자의 개인정보 제공 동의를 관리할 수 있습니다. 서비스 제공자는 사용자로부터 필요한 개인정보 제공 동의를 받을 수 있으며, 사용자는 언제든지 동의를 철회할 수 있습니다.\n",
      "\n",
      "3. 카카오톡 채널 추가: 카카오싱크를 통해 사용자가 서비스에 가입하면 자동으로 카카오톡 채널에 추가됩니다. 이를 통해 서비스 제공자는 카카오톡을 통해 사용자와 소통할 수 있습니다.\n",
      "\n",
      "4. 사용자 정보 활용: 카카오싱크를 통해 제공되는 사용자 정보를 활용하여 개인 맞춤형 서비스를 제공할 수 있습니다. 예를 들어, 사용자의 프로필 정보를 활용하여 맞춤형 추천 기능을 제공할 수 있습니다.\n",
      "\n",
      "5. 카카오싱크 플러스친구: 카카오싱크를 통해 가입한 사용자는 자동으로 카카오싱크 플러스친구로 추가됩니다. 이를 통해 서비스 제공자는 카카오톡을 통해 사용자와 소통하고, 다양한 마케팅 활동을 할 수 있습니다.\n",
      "\n",
      "카카오싱크는 사용자의 편의성을 높이고 개인정보 보호를 강화하는 기능을 제공하여 서비스 제공자와 사용자 모두에게 많은 이점을 제공합니다.\n"
     ]
    }
   ],
   "source": [
    "audience_knowledge_level = \"moderate\"\n",
    "\n",
    "STEP1_PROMPT_TEMPLATE = \"./prompts/1_zeroshot/template_1.txt\"\n",
    "\n",
    "SYSTEM_PROMPT_TEMPLATE = os.path.join(STEP1_PROMPT_TEMPLATE)\n",
    "system_prompt_template = read_prompt_template(SYSTEM_PROMPT_TEMPLATE)\n",
    "system_prompt = system_prompt_template.format(\n",
    "    knowledge_level=\"moderate\"\n",
    ")\n",
    "\n",
    "guide = request_gpt_api(system_prompt, user_prompt=question)\n",
    "\n",
    "print(guide)"
   ],
   "metadata": {
    "collapsed": false,
    "ExecuteTime": {
     "start_time": "2023-12-12T18:12:36.541899Z",
     "end_time": "2023-12-12T18:12:54.171080Z"
    }
   }
  },
  {
   "cell_type": "markdown",
   "source": [
    "# Manual chain 구성\n",
    "\n",
    "- zeroshot에서 여러 template으로 만든 프롬프트 I/O를 수동으로 이어준 형태인 manual chain (가칭)으로 변경한다."
   ],
   "metadata": {
    "collapsed": false
   }
  },
  {
   "cell_type": "code",
   "execution_count": 9,
   "outputs": [
    {
     "name": "stdout",
     "output_type": "stream",
     "text": [
      "카카오싱크는 카카오 계정을 이용하여 다양한 서비스에 간편하게 가입하고 로그인할 수 있는 기능입니다. 카카오싱크를 통해 제공되는 주요 기능은 다음과 같습니다:\n",
      "\n",
      "1. 간편한 회원가입 및 로그인: 카카오 계정을 이용하여 간편하게 회원가입하고 로그인할 수 있습니다. 이를 통해 사용자는 별도의 아이디와 비밀번호를 기억하지 않아도 됩니다.\n",
      "\n",
      "2. 개인정보 제공 동의 관리: 사용자는 카카오싱크를 통해 제공되는 서비스에 대한 개인정보 제공에 대한 동의를 관리할 수 있습니다. 이를 통해 사용자는 자신의 개인정보를 보다 안전하게 관리할 수 있습니다.\n",
      "\n",
      "3. 플러스친구 자동 추가: 카카오싱크를 통해 가입한 사용자는 자동으로 해당 서비스의 플러스친구로 추가됩니다. 이를 통해 서비스와 사용자 간의 소통이 원활해집니다.\n",
      "\n",
      "4. 공유 및 메시지 전송 기능: 카카오싱크를 통해 사용자는 서비스 내에서 친구에게 공유할 수 있으며, 메시지를 전송할 수도 있습니다. 이를 통해 사용자 간의 소셜 네트워크가 형성됩니다.\n",
      "\n",
      "5. 개인정보 보호 강화: 카카오싱크는 개인정보 보호를 위해 다양한 보안 기능을 제공합니다. 사용자의 개인정보는 안전하게 보호되며, 서비스 제공자는 개인정보 처리에 대한 법적 요건을 준수할 수 있습니다.\n",
      "\n",
      "위의 기능들은 카카오싱크의 주요 기능 중 일부입니다. 카카오싱크를 통해 사용자는 편리하고 안전한 서비스 이용을 할 수 있습니다.\n"
     ]
    }
   ],
   "source": [
    "# 유저의 지식 정도 추론\n",
    "STEP2_1_PROMPT_TEMPLATE = os.path.join(\"./prompts/2_manual_chain/template_2_1_knowledge_level.txt\")\n",
    "knowledge_level_prompt_template = read_prompt_template(STEP2_1_PROMPT_TEMPLATE)\n",
    "knowledge_level_prompt = knowledge_level_prompt_template.format()\n",
    "knowledge_level = request_gpt_api(knowledge_level_prompt, \"카카오싱크 기능이 무엇이 있는지 설명해주세요\")\n",
    "\n",
    "STEP2_2_PROMPT_TEMPLATE = os.path.join(\"./prompts/2_manual_chain/template_2_2_guide.txt\")\n",
    "guide_prompt_template = read_prompt_template(STEP2_2_PROMPT_TEMPLATE)\n",
    "guide_prompt = guide_prompt_template.format(\n",
    "    knowledge_level=knowledge_level\n",
    ")\n",
    "guide = request_gpt_api(guide_prompt, question)\n",
    "\n",
    "print(guide)"
   ],
   "metadata": {
    "collapsed": false,
    "ExecuteTime": {
     "start_time": "2023-12-12T18:12:54.174180Z",
     "end_time": "2023-12-12T18:13:26.205923Z"
    }
   }
  },
  {
   "cell_type": "markdown",
   "source": [
    "# Langchain zeroshot\n",
    "\n",
    "- Langchain 함수를 이용해 manual chain을 구현한다."
   ],
   "metadata": {
    "collapsed": false
   }
  },
  {
   "cell_type": "code",
   "execution_count": 10,
   "outputs": [],
   "source": [
    "os.environ[\"OPENAI_API_KEY\"] = openai.api_key"
   ],
   "metadata": {
    "collapsed": false,
    "ExecuteTime": {
     "start_time": "2023-12-12T18:13:26.204802Z",
     "end_time": "2023-12-12T18:13:26.221678Z"
    }
   }
  },
  {
   "cell_type": "code",
   "execution_count": 140,
   "outputs": [],
   "source": [
    "from langchain.chat_models import ChatOpenAI\n",
    "from langchain.prompts.chat import ChatPromptTemplate\n",
    "from langchain.chains import LLMChain\n",
    "from pprint import pprint\n",
    "\n",
    "def generate_guide(question, knowledge_level) -> dict[str, str]:\n",
    "    STEP3_PROMPT_TEMPLATE = \"./prompts/3_langchain_zeroshot/template_3.txt\"\n",
    "\n",
    "    kakao_expert_llm = ChatOpenAI(temperature=0.1, max_tokens=500, model=\"gpt-3.5-turbo\")\n",
    "    kakao_expert_prompt_template = ChatPromptTemplate.from_template(\n",
    "        template=read_prompt_template(STEP3_PROMPT_TEMPLATE))\n",
    "    kakao_expert_chain = LLMChain(llm=kakao_expert_llm, prompt=kakao_expert_prompt_template)\n",
    "    result = kakao_expert_chain(dict(\n",
    "        question=question,\n",
    "        knowledge_level=knowledge_level\n",
    "    ))\n",
    "\n",
    "    return result[\"text\"]"
   ],
   "metadata": {
    "collapsed": false,
    "ExecuteTime": {
     "start_time": "2023-12-13T11:21:44.194017Z",
     "end_time": "2023-12-13T11:21:44.197297Z"
    }
   }
  },
  {
   "cell_type": "code",
   "execution_count": 12,
   "outputs": [
    {
     "name": "stdout",
     "output_type": "stream",
     "text": [
      "카카오싱크는 카카오 플랫폼을 이용하는 서비스 제공자들이 사용할 수 있는 기능입니다. 카카오싱크를 통해 사용자는 카카오톡 계정으로 간편하게 로그인하고, 서비스 이용 시에도 편리한 기능을 제공받을 수 있습니다.\n",
      "\n",
      "카카오싱크의 주요 기능은 다음과 같습니다:\n",
      "\n",
      "1. 간편한 로그인: 카카오톡 계정으로 로그인할 수 있어, 사용자는 별도의 아이디와 비밀번호를 기억하지 않아도 됩니다. 이를 통해 사용자들은 더욱 편리하게 서비스를 이용할 수 있습니다.\n",
      "\n",
      "2. 개인정보 제공 동의: 카카오싱크를 통해 사용자는 개인정보 제공에 대한 동의를 간편하게 할 수 있습니다. 이를 통해 서비스 제공자는 사용자의 개인정보를 안전하게 수집하고 활용할 수 있습니다.\n",
      "\n",
      "3. 프로필 정보 활용: 카카오싱크를 통해 사용자의 프로필 정보를 활용할 수 있습니다. 이를 통해 서비스 제공자는 사용자에게 맞춤형 서비스를 제공할 수 있습니다.\n",
      "\n",
      "4. 카카오톡 채널 연결: 카카오싱크를 통해 사용자는 서비스 제공자의 카카오톡 채널과 연결할 수 있습니다. 이를 통해 서비스 제공자는 카카오톡을 통해 사용자와 소통하고, 다양한 마케팅 활동을 할 수 있습니다.\n",
      "\n",
      "5. 카카오톡\n"
     ]
    }
   ],
   "source": [
    "guide = generate_guide(\n",
    "    question=question,\n",
    "    knowledge_level=\"moderate\")\n",
    "\n",
    "print(guide)"
   ],
   "metadata": {
    "collapsed": false,
    "ExecuteTime": {
     "start_time": "2023-12-12T18:13:26.670014Z",
     "end_time": "2023-12-12T18:13:39.374876Z"
    }
   }
  },
  {
   "cell_type": "markdown",
   "source": [
    "# Langchain chain\n",
    "\n",
    "- Langchain을 이용해 LLM chain을 구현합니다"
   ],
   "metadata": {
    "collapsed": false
   }
  },
  {
   "cell_type": "code",
   "execution_count": 13,
   "outputs": [],
   "source": [
    "from langchain.chains import SequentialChain\n",
    "\n",
    "def create_chain(llm, template_path, output_key):\n",
    "    return LLMChain(\n",
    "        llm=llm,\n",
    "        prompt=ChatPromptTemplate.from_template(\n",
    "            template=read_prompt_template(template_path),\n",
    "        ),\n",
    "        output_key=output_key,\n",
    "        verbose=True,\n",
    "    )"
   ],
   "metadata": {
    "collapsed": false,
    "ExecuteTime": {
     "start_time": "2023-12-12T18:13:39.375277Z",
     "end_time": "2023-12-12T18:13:39.380081Z"
    }
   }
  },
  {
   "cell_type": "code",
   "execution_count": 14,
   "outputs": [],
   "source": [
    "def generate_guide(question) -> dict[str, str]:\n",
    "\n",
    "    STEP4_1_PROMPT_TEMPLATE = \"./prompts/4_langchain_chain/template_4_1_knowledge_level.txt\"\n",
    "    STEP4_2_PROMPT_TEMPLATE = \"./prompts/4_langchain_chain/template_4_2_guide.txt\"\n",
    "\n",
    "    kakao_expert_llm = ChatOpenAI(temperature=0.1, max_tokens=500, model=\"gpt-3.5-turbo\")\n",
    "\n",
    "    knowledge_level_chain = create_chain(kakao_expert_llm, STEP4_1_PROMPT_TEMPLATE, \"knowledge_level\")\n",
    "\n",
    "    guide_chain = create_chain(kakao_expert_llm, STEP4_2_PROMPT_TEMPLATE, \"output\")\n",
    "\n",
    "    preprocess_chain = SequentialChain(\n",
    "        chains=[\n",
    "            knowledge_level_chain,\n",
    "            guide_chain\n",
    "        ],\n",
    "        input_variables=[\"question\"],\n",
    "        output_variables=[\"knowledge_level\"],\n",
    "        verbose=True,\n",
    "    )\n",
    "\n",
    "    context = dict(\n",
    "        question=question\n",
    "    )\n",
    "    context = preprocess_chain(context)\n",
    "\n",
    "    context[\"question\"] = question\n",
    "\n",
    "    context = guide_chain(context)\n",
    "\n",
    "    return context[\"output\"]"
   ],
   "metadata": {
    "collapsed": false,
    "ExecuteTime": {
     "start_time": "2023-12-12T18:13:39.381907Z",
     "end_time": "2023-12-12T18:13:39.402370Z"
    }
   }
  },
  {
   "cell_type": "code",
   "execution_count": 15,
   "outputs": [
    {
     "name": "stdout",
     "output_type": "stream",
     "text": [
      "\n",
      "\n",
      "\u001B[1m> Entering new SequentialChain chain...\u001B[0m\n",
      "\n",
      "\n",
      "\u001B[1m> Entering new LLMChain chain...\u001B[0m\n",
      "Prompt after formatting:\n",
      "\u001B[32;1m\u001B[1;3mHuman: <persona>\n",
      "You are a provider of Kakao service.\n",
      "</persona>\n",
      "\n",
      "Please Inference user's knowledge level about Kakao API as one of three levels: novice, moderate, and expert.\u001B[0m\n",
      "\n",
      "\u001B[1m> Finished chain.\u001B[0m\n",
      "\n",
      "\n",
      "\u001B[1m> Entering new LLMChain chain...\u001B[0m\n",
      "Prompt after formatting:\n",
      "\u001B[32;1m\u001B[1;3mHuman: <persona>\n",
      "You are a provider of Kakao service.\n",
      "</persona>\n",
      "\n",
      "<question>\n",
      "카카오싱크 기능이 무엇이 있는지 설명해주세요\n",
      "</question>\n",
      "\n",
      "<user's knowledge level>\n",
      "As an AI, I cannot directly infer the user's knowledge level about Kakao API. However, I can make an educated guess based on the user's interactions and questions. If the user asks basic questions about the functionalities and usage of Kakao API, it is likely that they have a novice level of knowledge. If the user asks more specific and advanced questions, it suggests a moderate level of knowledge. Finally, if the user demonstrates a deep understanding of the API, asks complex questions, or discusses advanced topics, it indicates an expert level of knowledge.\n",
      "</user's knowledge level>\n",
      "\n",
      "Please explain about <question>, considering <user's knowledge level>\n",
      "- Audience's language: Korean\u001B[0m\n",
      "\n",
      "\u001B[1m> Finished chain.\u001B[0m\n",
      "\n",
      "\u001B[1m> Finished chain.\u001B[0m\n",
      "\n",
      "\n",
      "\u001B[1m> Entering new LLMChain chain...\u001B[0m\n",
      "Prompt after formatting:\n",
      "\u001B[32;1m\u001B[1;3mHuman: <persona>\n",
      "You are a provider of Kakao service.\n",
      "</persona>\n",
      "\n",
      "<question>\n",
      "카카오싱크 기능이 무엇이 있는지 설명해주세요\n",
      "</question>\n",
      "\n",
      "<user's knowledge level>\n",
      "As an AI, I cannot directly infer the user's knowledge level about Kakao API. However, I can make an educated guess based on the user's interactions and questions. If the user asks basic questions about the functionalities and usage of Kakao API, it is likely that they have a novice level of knowledge. If the user asks more specific and advanced questions, it suggests a moderate level of knowledge. Finally, if the user demonstrates a deep understanding of the API, asks complex questions, or discusses advanced topics, it indicates an expert level of knowledge.\n",
      "</user's knowledge level>\n",
      "\n",
      "Please explain about <question>, considering <user's knowledge level>\n",
      "- Audience's language: Korean\u001B[0m\n",
      "\n",
      "\u001B[1m> Finished chain.\u001B[0m\n",
      "카카오싱크는 카카오 플랫폼의 일환으로, 온라인 비즈니스에 카카오 계정을 활용하여 간편한 회원가입 및 로그인, 개인정보 제공 등의 기능을 제공하는 서비스입니다. 카카오싱크를 통해 사용자는 카카오 계정으로 간편하게 회원가입하고, 로그인할 수 있으며, 개인정보 제공 동의를 통해 필요한 정보를 쉽게 제공할 수 있습니다.\n",
      "\n",
      "카카오싱크의 주요 기능은 다음과 같습니다:\n",
      "\n",
      "1. 간편한 회원가입 및 로그인: 카카오 계정을 활용하여 간편하게 회원가입하고 로그인할 수 있습니다. 이를 통해 사용자는 별도의 아이디와 비밀번호를 기억하지 않아도 되며, 편리하게 서비스를 이용할 수 있습니다.\n",
      "\n",
      "2. 개인정보 제공 동의: 카카오싱크를 통해 사용자는 필요한 개인정보를 제공할 수 있습니다. 이를 통해 온라인 비즈니스는 사용자의 개인정보를 안전하게 수집하고 활용할 수 있습니다.\n",
      "\n",
      "3. 플러스친구 연동: 카카오싱크를 통해 온라인 비즈니스는 플러스친구와 연동하여 사용자와의 소통을 강화할 수 있습니다. 플러스친구를 통해 쿠폰, 이벤트 등 다양한 혜택을 제공하고, 고객과의 소통을 원활하게 할 수 있습니다.\n",
      "\n",
      "4. 공유 및 마케팅 기\n"
     ]
    }
   ],
   "source": [
    "guide = generate_guide(question)\n",
    "\n",
    "print(guide)"
   ],
   "metadata": {
    "collapsed": false,
    "ExecuteTime": {
     "start_time": "2023-12-12T18:13:39.387684Z",
     "end_time": "2023-12-12T18:14:09.950167Z"
    }
   }
  },
  {
   "cell_type": "markdown",
   "source": [
    "# chromadb를 이용한 collection 구축"
   ],
   "metadata": {
    "collapsed": false
   }
  },
  {
   "cell_type": "markdown",
   "source": [
    "## 데이터 정제"
   ],
   "metadata": {
    "collapsed": false
   }
  },
  {
   "cell_type": "code",
   "execution_count": 114,
   "outputs": [],
   "source": [
    "def read_txt(file_path: str) -> str:\n",
    "    with open(file_path, \"r\") as f:\n",
    "        data = f.read()\n",
    "\n",
    "    return data"
   ],
   "metadata": {
    "collapsed": false,
    "ExecuteTime": {
     "start_time": "2023-12-13T10:29:58.737027Z",
     "end_time": "2023-12-13T10:29:58.739487Z"
    }
   }
  },
  {
   "cell_type": "code",
   "execution_count": 115,
   "outputs": [],
   "source": [
    "data = read_txt(\"../data/project_data_카카오싱크.txt\")\n",
    "data = data.split(\"\\n\")\n"
   ],
   "metadata": {
    "collapsed": false,
    "ExecuteTime": {
     "start_time": "2023-12-13T10:29:59.508500Z",
     "end_time": "2023-12-13T10:29:59.512336Z"
    }
   }
  },
  {
   "cell_type": "code",
   "execution_count": 116,
   "outputs": [],
   "source": [
    "title = \"카카오싱크\"\n",
    "documents = []\n",
    "txt_list = []\n",
    "for txt in data:\n",
    "    if txt == \"\":\n",
    "        continue\n",
    "\n",
    "    if txt.startswith(\"#\"):\n",
    "        title = txt.replace(\"#\", \"\")\n",
    "        documents.append(f\"{title}:{' '.join(txt_list)}\")\n",
    "        txt_list = []\n",
    "\n",
    "    else:\n",
    "        txt_list.append(txt)"
   ],
   "metadata": {
    "collapsed": false,
    "ExecuteTime": {
     "start_time": "2023-12-13T10:30:00.341658Z",
     "end_time": "2023-12-13T10:30:00.347883Z"
    }
   }
  },
  {
   "cell_type": "markdown",
   "source": [
    "## collection add"
   ],
   "metadata": {
    "collapsed": false
   }
  },
  {
   "cell_type": "code",
   "execution_count": 71,
   "outputs": [],
   "source": [
    "import chromadb"
   ],
   "metadata": {
    "collapsed": false
   }
  },
  {
   "cell_type": "code",
   "execution_count": 72,
   "outputs": [],
   "source": [
    "client = chromadb.PersistentClient()\n",
    "\n",
    "collection = client.get_or_create_collection(\n",
    "    name=\"kakao_api\",\n",
    "    metadata={\"hnsw:space\": \"cosine\"}, # l2 is the default\n",
    ")"
   ],
   "metadata": {
    "collapsed": false
   }
  },
  {
   "cell_type": "code",
   "execution_count": 76,
   "outputs": [],
   "source": [
    "collection.add(\n",
    "    ids=[f\"id{idx+1}\" for idx in range(len(documents))],\n",
    "    documents=documents\n",
    ")"
   ],
   "metadata": {
    "collapsed": false
   }
  },
  {
   "cell_type": "code",
   "execution_count": 129,
   "outputs": [
    {
     "data": {
      "text/plain": "{'ids': [['id1', 'id2', 'id4']],\n 'distances': [[0.1870035724044411, 0.19211565753451365, 0.3772287220219227]],\n 'metadatas': [[None, None, None]],\n 'embeddings': None,\n 'documents': [['시작하기:카카오싱크:',\n   '기능 소개:이 문서는 카카오싱크에 대해 소개하고, 카카오싱크 도입에 필요한 검수 및 설정에 대해 안내합니다.',\n   '도입 안내:1. 카카오로 시작하기 버튼 : 사용자가 카카오싱크 도입 서비스에서 [카카오로 시작하기] 버튼을 눌러 로그인을 요청합니다. 카카오싱크 도입 서비스에서 사용자는 서비스 회원 ID와 비밀번호 입력 대신 카카오톡을 통해 손쉽게 로그인할 수 있습니다. 카카오톡 실행이 불가능한 환경이라도 카카오계정을 사용해 별도 서비스 회원 가입 절차 없이 로그인할 수 있습니다. 2. 동의하고 계속하기 : 사용자는 카카오톡 또는 카카오계정으로 로그인한 후, 동의 화면에서 정보 제공 동의 항목과 서비스 약관 모두 한 번에 동의할 수 있습니다. 카카오싱크 도입 서비스의 동의 화면은 서비스 약관 동의를 포함해, 한 화면에서 회원 가입에 필요한 동의를 모두 받을 수 있도록 지원합니다. 사용자는 동의 화면에서 서비스의 카카오톡 채널을 친구로 추가할 수도 있습니다. 3. 반갑습니다! 회원이 되신 것을 환영합니다.(문구) : 서비스는 카카오에 로그인한 사용자의 사용자 정보 제공을 요청합니다. 카카오싱크 도입 서비스는 일반적인 회원 가입 시 필요한 사용자 정보들을 카카오로부터 제공받을 수 있습니다. 서비스는 제공받은 사용자 정보로 별도 회원 정보 입력 과정을 거치지 않고 즉시 회원가입 처리를 완료할 수 있습니다. 상세 내용:위와 같이 카카오싱크는 사용자가 한 번의 동의 과정만으로도 서비스의 신규 회원으로 가입할 수 있도록 지원합니다. 또한 카카오싱크 간편가입 사용자는 가입 이후에도 ID 및 비밀번호를 입력하는 대신 카카오 로그인을 통해 서비스에 손쉽게 로그인할 수 있습니다. 서비스는 카카오가 제공하는 API를 통해 회원가입에 필요한 계정 입력 방식의 로그인 과정이나 사용자 정보 입력 절차 등을 최대한 간소화하여 보다 손쉽게 모객을 할 수 있습니다. 이밖에, 카카오싱크 서비스는 카카오톡 채널, 카카오 비즈보드, 챗봇 등 다양한 카카오 마케팅 설루션을 더욱 효과적으로 사용할 수 있습니다. 자세한 안내는 마케팅 가이드를 참고합니다. 카카오비즈니스에서도 카카오싱크에 대한 자세한 소개를 만나볼 수 있습니다. ']],\n 'uris': None,\n 'data': None}"
     },
     "execution_count": 129,
     "metadata": {},
     "output_type": "execute_result"
    }
   ],
   "source": [
    "collection.query(\n",
    "    query_texts=[question],\n",
    "    n_results=3,\n",
    ")"
   ],
   "metadata": {
    "collapsed": false
   }
  },
  {
   "cell_type": "markdown",
   "source": [
    "## 함수화"
   ],
   "metadata": {
    "collapsed": false
   }
  },
  {
   "cell_type": "code",
   "execution_count": 162,
   "outputs": [],
   "source": [
    "def search_db(query: str):\n",
    "    client = chromadb.PersistentClient()\n",
    "    collection = client.get_or_create_collection(\n",
    "        name=\"kakao_sync\",\n",
    "        metadata={\"hnsw:space\": \"cosine\"}\n",
    "    )\n",
    "\n",
    "    query_result = collection.query(\n",
    "        query_texts=[query],\n",
    "        n_results=2\n",
    "    )\n",
    "\n",
    "    search_results = []\n",
    "    for document in query_result['documents'][0]:\n",
    "        print(\"document : \")\n",
    "        print(document)\n",
    "\n",
    "        docu_array = document.split(':')\n",
    "\n",
    "        search_results.append(\n",
    "            {\n",
    "                \"content\": docu_array[1]\n",
    "            }\n",
    "        )\n",
    "\n",
    "    return search_results\n",
    "\n",
    "utterance = question\n",
    "\n",
    "functions = [\n",
    "    {\n",
    "        \"name\": \"find_kakao_db\",\n",
    "        \"func\": lambda x: search_db(utterance),\n",
    "        \"description\": \"카카오 싱크에 대한 질문에 답변한다\"\n",
    "    }\n",
    "]"
   ],
   "metadata": {
    "collapsed": false
   }
  },
  {
   "cell_type": "code",
   "execution_count": 169,
   "outputs": [],
   "source": [
    "from langchain.chat_models import ChatOpenAI\n",
    "from langchain.schema import SystemMessage\n",
    "from langchain.prompts.chat import (\n",
    "    ChatPromptTemplate,\n",
    "    HumanMessagePromptTemplate,\n",
    ")\n",
    "from langchain.chains import LLMChain\n",
    "\n",
    "def prompt_with_chromaDB(query, temperature=0.0, model=\"gpt-3.5-turbo\", functions=None):\n",
    "    system_message = \"assistant는 user의 내용을 bullet point 3줄로 요약하라. 영어인 경우 한국어로 번역해서 요약하라.\"\n",
    "    system_message_prompt = SystemMessage(content=system_message)\n",
    "\n",
    "    human_template = \"{query}위 내용을 bullet point로 3줄로 한국어로 요약해\"\n",
    "    human_message_prompt = HumanMessagePromptTemplate.from_template(human_template)\n",
    "\n",
    "    chat_prompt = ChatPromptTemplate.from_messages([system_message_prompt,\n",
    "                                                    human_message_prompt])\n",
    "\n",
    "    print(functions)\n",
    "\n",
    "    llm = ChatOpenAI(model=model, temperature=temperature)\n",
    "    tools = []\n",
    "    if functions != None :\n",
    "        print(\"functions 사용\")\n",
    "        tools = [\n",
    "            Tool(\n",
    "                **func\n",
    "            ) for func in functions\n",
    "        ]\n",
    "        agent = initialize_agent(tools, llm, agent=AgentType.OPENAI_FUNCTIONS, verbose=True)\n",
    "\n",
    "        final_result = agent.run(query)\n",
    "        return final_result\n",
    "    else :\n",
    "        print(\"functions 미사용\")\n",
    "        agent = LLMChain(llm=llm, prompt=chat_prompt)\n",
    "        return agent.run(query)\n"
   ],
   "metadata": {
    "collapsed": false
   }
  },
  {
   "cell_type": "code",
   "execution_count": 170,
   "outputs": [
    {
     "name": "stdout",
     "output_type": "stream",
     "text": [
      "[{'name': 'find_kakao_db', 'func': <function <lambda> at 0x2feb9d1b0>, 'description': '카카오 싱크에 대한 질문에 답변한다'}]\n",
      "functions 사용\n",
      "\n",
      "\n",
      "\u001B[1m> Entering new AgentExecutor chain...\u001B[0m\n",
      "\u001B[32;1m\u001B[1;3m카카오싱크는 카카오 플랫폼과 연동하여 다양한 기능을 제공하는 서비스입니다. 주요 기능은 다음과 같습니다:\n",
      "\n",
      "1. 회원가입 및 로그인: 카카오 계정을 이용하여 간편하게 회원가입 및 로그인을 할 수 있습니다. 이를 통해 사용자의 정보를 수집하고 관리할 수 있습니다.\n",
      "\n",
      "2. 개인정보 수집 동의: 카카오싱크를 통해 개인정보 수집 동의를 받을 수 있습니다. 사용자가 동의한 개인정보는 카카오싱크를 통해 제공되며, 이를 활용하여 맞춤형 서비스를 제공할 수 있습니다.\n",
      "\n",
      "3. 카카오톡 채널 연동: 카카오싱크를 통해 카카오톡 채널과 연동할 수 있습니다. 이를 통해 카카오톡을 통한 고객과의 소통이 원활해지며, 푸시 알림, 채팅 상담 등 다양한 기능을 제공할 수 있습니다.\n",
      "\n",
      "4. 결제 서비스 연동: 카카오싱크를 통해 카카오페이와 연동하여 결제 서비스를 제공할 수 있습니다. 사용자는 카카오페이를 통해 간편하게 결제할 수 있으며, 판매자는 결제 정보를 실시간으로 확인할 수 있습니다.\n",
      "\n",
      "5. 고객 관리: 카카오싱크를 통해 사용자의 정보를 수집하고 관리할 수 있습니다. 이를 통해 고객의 구매 이력, 선호도 등을 파악하여 맞춤형 마케팅을 할 수 있습니다.\n",
      "\n",
      "6. 푸시 알림: 카카오싱크를 통해 사용자에게 푸시 알림을 보낼 수 있습니다. 이를 통해 이벤트, 할인 혜택 등을 알리고 고객의 관심을 유도할 수 있습니다.\n",
      "\n",
      "7. 데이터 분석: 카카오싱크를 통해 수집된 데이터를 분석하여 고객의 행동 패턴, 선호도 등을 파악할 수 있습니다. 이를 통해 마케팅 전략을 수립하고 개선할 수 있습니다.\n",
      "\n",
      "카카오싱크는 다양한 기능을 제공하여 사용자와의 소통과 서비스 개선을 도와줍니다.\u001B[0m\n",
      "\n",
      "\u001B[1m> Finished chain.\u001B[0m\n"
     ]
    },
    {
     "data": {
      "text/plain": "'카카오싱크는 카카오 플랫폼과 연동하여 다양한 기능을 제공하는 서비스입니다. 주요 기능은 다음과 같습니다:\\n\\n1. 회원가입 및 로그인: 카카오 계정을 이용하여 간편하게 회원가입 및 로그인을 할 수 있습니다. 이를 통해 사용자의 정보를 수집하고 관리할 수 있습니다.\\n\\n2. 개인정보 수집 동의: 카카오싱크를 통해 개인정보 수집 동의를 받을 수 있습니다. 사용자가 동의한 개인정보는 카카오싱크를 통해 제공되며, 이를 활용하여 맞춤형 서비스를 제공할 수 있습니다.\\n\\n3. 카카오톡 채널 연동: 카카오싱크를 통해 카카오톡 채널과 연동할 수 있습니다. 이를 통해 카카오톡을 통한 고객과의 소통이 원활해지며, 푸시 알림, 채팅 상담 등 다양한 기능을 제공할 수 있습니다.\\n\\n4. 결제 서비스 연동: 카카오싱크를 통해 카카오페이와 연동하여 결제 서비스를 제공할 수 있습니다. 사용자는 카카오페이를 통해 간편하게 결제할 수 있으며, 판매자는 결제 정보를 실시간으로 확인할 수 있습니다.\\n\\n5. 고객 관리: 카카오싱크를 통해 사용자의 정보를 수집하고 관리할 수 있습니다. 이를 통해 고객의 구매 이력, 선호도 등을 파악하여 맞춤형 마케팅을 할 수 있습니다.\\n\\n6. 푸시 알림: 카카오싱크를 통해 사용자에게 푸시 알림을 보낼 수 있습니다. 이를 통해 이벤트, 할인 혜택 등을 알리고 고객의 관심을 유도할 수 있습니다.\\n\\n7. 데이터 분석: 카카오싱크를 통해 수집된 데이터를 분석하여 고객의 행동 패턴, 선호도 등을 파악할 수 있습니다. 이를 통해 마케팅 전략을 수립하고 개선할 수 있습니다.\\n\\n카카오싱크는 다양한 기능을 제공하여 사용자와의 소통과 서비스 개선을 도와줍니다.'"
     },
     "execution_count": 170,
     "metadata": {},
     "output_type": "execute_result"
    }
   ],
   "source": [
    "prompt_with_chromaDB(query=question, functions=functions)"
   ],
   "metadata": {
    "collapsed": false
   }
  },
  {
   "cell_type": "markdown",
   "source": [
    "# Langchain을 이용한 collection 구축"
   ],
   "metadata": {
    "collapsed": false
   }
  },
  {
   "cell_type": "markdown",
   "source": [
    "## 데이터 정제\n",
    "\n",
    "- langchain에 포함된 CharacterTextSplitter 모듈을 이용해 텍스트를 Chunk로 쪼개어 chromaDB에 적재할 수 있게 합니다.\n",
    "   - `chunk_size`, `chunk_overlap`은 데이터에 따라 설정하는 값입니다."
   ],
   "metadata": {
    "collapsed": false
   }
  },
  {
   "cell_type": "code",
   "execution_count": 104,
   "outputs": [
    {
     "name": "stderr",
     "output_type": "stream",
     "text": [
      "Created a chunk of size 991, which is longer than the specified 500\n"
     ]
    },
    {
     "name": "stdout",
     "output_type": "stream",
     "text": [
      "texts :  [Document(page_content='카카오싱크:\\n\\n#시작하기\\n이 문서는 카카오싱크에 대해 소개하고, 카카오싱크 도입에 필요한 검수 및 설정에 대해 안내합니다.\\n\\n#기능 소개\\n카카오싱크는 소셜 로그인인 카카오 로그인을 통해 보다 편리하게 서비스에 가입할 수 있도록 도와주는 비즈니스 설루션입니다. 카카오싱크가 제공하는 핵심 기능은 다음 두 가지입니다.\\n\\n  기능 | 설명 | 효과\\n  간편가입 | 동의 화면에서 서비스 약관까지 한 번에 동의받을 수 있습니다. | 서비스 약관 동의 절차 생략 가능\\n   더 다양한 사용자 정보 활용 | 서비스 회원 가입 시 필요한 다양한 사용자 정보를 제공받을 수 있습니다. 이름, 이메일, 전화번호, 연령대, 생일, 성별, 출생연도, 배송지 등 정보를 제공합니다. | 회원 정보 입력 절차 생략 가능', metadata={'source': '../data/project_data_카카오싱크.txt'}), Document(page_content='# 과정 예시\\n1. 카카오로 시작하기 버튼 : 사용자가 카카오싱크 도입 서비스에서 [카카오로 시작하기] 버튼을 눌러 로그인을 요청합니다. 카카오싱크 도입 서비스에서 사용자는 서비스 회원 ID와 비밀번호 입력 대신 카카오톡을 통해 손쉽게 로그인할 수 있습니다. 카카오톡 실행이 불가능한 환경이라도 카카오계정을 사용해 별도 서비스 회원 가입 절차 없이 로그인할 수 있습니다.\\n\\n2. 동의하고 계속하기 : 사용자는 카카오톡 또는 카카오계정으로 로그인한 후, 동의 화면에서 정보 제공 동의 항목과 서비스 약관 모두 한 번에 동의할 수 있습니다. 카카오싱크 도입 서비스의 동의 화면은 서비스 약관 동의를 포함해, 한 화면에서 회원 가입에 필요한 동의를 모두 받을 수 있도록 지원합니다. 사용자는 동의 화면에서 서비스의 카카오톡 채널을 친구로 추가할 수도 있습니다.', metadata={'source': '../data/project_data_카카오싱크.txt'}), Document(page_content='3. 반갑습니다! 회원이 되신 것을 환영합니다.(문구) : 서비스는 카카오에 로그인한 사용자의 사용자 정보 제공을 요청합니다. 카카오싱크 도입 서비스는 일반적인 회원 가입 시 필요한 사용자 정보들을 카카오로부터 제공받을 수 있습니다. 서비스는 제공받은 사용자 정보로 별도 회원 정보 입력 과정을 거치지 않고 즉시 회원가입 처리를 완료할 수 있습니다.\\n\\n상세 내용:위와 같이 카카오싱크는 사용자가 한 번의 동의 과정만으로도 서비스의 신규 회원으로 가입할 수 있도록 지원합니다. 또한 카카오싱크 간편가입 사용자는 가입 이후에도 ID 및 비밀번호를 입력하는 대신 카카오 로그인을 통해 서비스에 손쉽게 로그인할 수 있습니다.\\n\\n서비스는 카카오가 제공하는 API를 통해 회원가입에 필요한 계정 입력 방식의 로그인 과정이나 사용자 정보 입력 절차 등을 최대한 간소화하여 보다 손쉽게 모객을 할 수 있습니다.', metadata={'source': '../data/project_data_카카오싱크.txt'}), Document(page_content='서비스는 카카오가 제공하는 API를 통해 회원가입에 필요한 계정 입력 방식의 로그인 과정이나 사용자 정보 입력 절차 등을 최대한 간소화하여 보다 손쉽게 모객을 할 수 있습니다.\\n\\n이밖에, 카카오싱크 서비스는 카카오톡 채널, 카카오 비즈보드, 챗봇 등 다양한 카카오 마케팅 설루션을 더욱 효과적으로 사용할 수 있습니다. 자세한 안내는 마케팅 가이드를 참고합니다. 카카오비즈니스에서도 카카오싱크에 대한 자세한 소개를 만나볼 수 있습니다. \\n\\n\\n#도입 안내\\n서비스에 카카오싱크를 도입하는 과정을 안내합니다.\\n\\n1. 카카오싱크 신청 시작 : 카카오비즈니스 관리자센터에서 서비스의 사업자 계정으로 로그인한 후, [카카오싱크 신청] 메뉴를 선택합니다. 카카오싱크 도입 서비스의 오류 발생 시 빠른 지원을 위한 연락처를 입력해야 합니다. 카카오계정에 인증된 연락처가 없는 경우 아래와 같이 연락처 인증 및 등록 절차가 진행됩니다. 인증된 연락처가 등록되어 있는 경우에는 바로 카카오싱크 신청이 가능합니다.', metadata={'source': '../data/project_data_카카오싱크.txt'}), Document(page_content='2. 쇼핑몰 호스팅 서비스 사용 여부 선택: 쇼핑몰 호스팅 서비스(이하 호스팅사) 사용 여부를 선택합니다. 호스팅사 사용 여부는 최초 선택 이후 변경 불가이므로 유의합니다. 호스팅사를 이용하지 않고 자체적으로 사이트를 개발 및 운영하고 있다면 [호스팅사에 속하지 않는 독립몰]을 선택합니다. 호스팅사를 이용 중인 경우, [호스팅사를 이용하고 있는 경우]를 선택하고, 사용 중인 호스팅사를 선택합니다. 사용 중인 호스팅사가 카카오와 직접 연동되어 있는 제휴사라면 카카오싱크 간편 설정 팝업을 통해 카카오싱크 도입이 가능하므로, 카카오비즈니스 관리자센터에서는 CI에 대한 검수만 필요에 따라 진행합니다. 이 외 호스팅사의 경우 카카오싱크가 지원되지 않으므로, 해당 호스팅사에 카카오싱크 도입 가능 시점을 문의합니다.', metadata={'source': '../data/project_data_카카오싱크.txt'}), Document(page_content='3. 개인정보제공 항목 검수: 카카오싱크를 처음 도입한다면 개인정보제공 항목 검수를 통해 서비스에 필요한 사용자 정보 사용을 신청합니다. 일부 사용자 정보는 반드시 검수를 거쳐야 제공받을 수 있습니다. 카카오는 뚜렷한 용도 없이 지나치게 많은 사용자 정보를 제공하는 것을 지양하며, 사용자 정보 보호를 위해 사용자 정보 제공 전 검수를 진행합니다. 검수 완료 후, 서비스 앱에 필요한 사용자 정보를 [필수] 또는 [선택] 동의 항목으로 설정할 수 있는 권한을 부여합니다. 동의 항목은 사용자 정보를 제공받기 위한 앱 설정입니다. [선택] 사용자 정보는 사용자가 동의하지 않아도 카카오싱크 간편가입을 완료할 수 있는 항목에 해당합니다. [선택]인 사용자 정보는 사용자 동의 여부에 따라 카카오로부터 제공받을 수 없는 경우가 있으므로, 서비스 가입 및 이용에 꼭 필요한 사용자 정보는 [선택]으로 설정하지 않아야 합니다. [필수] 및 [선택] 여부는 신중히 판단하고 사용 신청해야 합니다. 사용 신청된 사용자 정보의 용도가 명확하지 않거나 부적절다면 검수 시 반려될 수 있습니다. 예를 들어 배송지 정보를 의류 등 물건을 파는 쇼핑몰에서 사용 신청한다면 문제가 없지만, 배송지 정보가 불필요한 서비스에서 사용 신청한다면 검수 시 반려됩니다. 카카오는 검수 시 서비스에서 각 사용자 정보가 어떤 용도로 쓰이는지 확인하므로, 수집 사유를 반드시 입력해야 합니다. 서비스 회원가입 시 수집하는 항목을 확인할 수 있는 서비스 회원가입 페이지의 URL, 수집 사유를 증빙할 수 있는 확인 자료를 함께 첨부합니다. 사이트 개발 등으로 확인 자료 첨부가 어려울 경우, 기획안 또는 디자인 시안으로 대체할 수 있습니다. 모든 항목을 설정 완료한 후 [신청하기]를 눌러 검수를 요청합니다. 검수에 소요되는 기간은 영업일 기준 3~5일입니다. 카카오는 검수 시 입력된 정보와 추가 자료는 물론, 현재 서비스의 회원 가입 기준이나 정보 활용 범위가 사용 신청 내역과 일치하는지 두루 확인합니다.', metadata={'source': '../data/project_data_카카오싱크.txt'}), Document(page_content='#설정 안내\\n카카오싱크 신청 및 검수 완료 후, 다음 설정을 완료해야 카카오싱크 연동 개발을 진행할 수 있습니다.', metadata={'source': '../data/project_data_카카오싱크.txt'}), Document(page_content='항목 | 설명 | 참고\\n기본 정보 | 카카오싱크 간편가입 동의 화면에 노출할 서비스 정보 설정. 앱 이름, 아이콘, 회사명이 실제 서비스와 일치하도록 설정. 설정 경로: [내 애플리케이션] > [일반] | 애플리케이션\\n테스트 환경 | 이미 카카오 로그인을 이용 중인 서비스인 경우, 서비스 환경에 영향을 주지 않도록 테스트 앱, 개발자용 채널을 생성하여 카카오싱크 연동 개발 가능. 아직 카카오 로그인을 이용 중이지 않은 서비스라도 필요에 따라 테스트 앱 생성 및 사용 가능. 설정 경로: [내 애플리케이션] > [카카오 로그인]\\t| 테스트 앱  개발자용 채널\\n카카오 로그인 | 카카오싱크 간편가입을 사용하기 위해 카카오 로그인 활성화 필요. 이미 카카오 로그인을 사용 중인 서비스는 활성화 상태로 유지. 네이티브 앱이 아닌 웹 서비스인 경우, 카카오 로그인 Redirect URI 등록 필요. 설정 경로: [내 애플리케이션] > [카카오 로그인] | 카카오 로그인 활성화 설정. Redirect URI 등록\\n간편가입 | 카카오싱크 간편가입 사용 및 서비스 약관 설정. 간편가입 사용하도록 설정 시 동의 화면에 서비스 약관 동의 항목 노출. 카카오싱크 간편가입 동의 화면에 노출해 사용자로부터 동의받을 서비스 약관 등록 및 관리. 설정 경로: [내 애플리케이션] > [카카오 로그인] > [간편가입] | 간편가입 간편가입 사용 설정\\n동의 항목 | 카카오로부터 제공받고자 하는 사용자 정보 및 기능에 대한 동의 항목 설정. 동의 화면에 노출할 동의 항목 설정을 통해 사용자 동의를 거쳐 카카오로부터 정보를 제공받을 수 있음. 각 동의 항목의 설정 권한은 카카오싱크 도입 시 사용 신청한 내역 반영. 일부 동의 항목은 별도 검수가 필요하므로, 참고 문서에서 설정 권한 획득 방법 확인 설정 경로: [내 애플리케이션] > [카카오 로그인] | 동의 항목\\n대표 채널 | 카카오싱크 간편가입 동의 화면에 노출할 대표 채널 설정. 설정 경로: [내 애플리케이션] > [카카오 로그인] > [카카오톡 채널] | 대표 채널 설정', metadata={'source': '../data/project_data_카카오싱크.txt'})]\n"
     ]
    }
   ],
   "source": [
    "from langchain.llms import OpenAI\n",
    "from langchain.document_loaders import TextLoader\n",
    "from langchain.text_splitter import CharacterTextSplitter\n",
    "\n",
    "llm = OpenAI(temperature=0)\n",
    "doc_path = \"../data/project_data_카카오싱크.txt\"\n",
    "loader = TextLoader(doc_path)\n",
    "documents = loader.load()\n",
    "\n",
    "text_splitter = CharacterTextSplitter(chunk_size=500, chunk_overlap=200)\n",
    "texts = text_splitter.split_documents(documents)\n",
    "\n",
    "print(\"texts : \", texts)"
   ],
   "metadata": {
    "collapsed": false,
    "ExecuteTime": {
     "start_time": "2023-12-13T10:22:31.396064Z",
     "end_time": "2023-12-13T10:22:31.400716Z"
    }
   }
  },
  {
   "cell_type": "markdown",
   "source": [
    "## collection add\n",
    "\n",
    "- langchain에 포함된 `vectorstores.Chroma` 모듈을 이용해 chromaDB를 구축합니다.\n",
    "- `retriever`를 사용하거나, `smiliarity_search`를 수행해 관련 문서를 찾아 return합니다."
   ],
   "metadata": {
    "collapsed": false
   }
  },
  {
   "cell_type": "code",
   "execution_count": 153,
   "outputs": [],
   "source": [
    "from langchain.vectorstores import Chroma\n",
    "from langchain.embeddings.openai import OpenAIEmbeddings\n",
    "\n",
    "_db = Chroma.from_documents(\n",
    "    texts,\n",
    "    OpenAIEmbeddings(),\n",
    "    collection_name=\"kakao_sync\")\n",
    "\n",
    "_retriever = _db.as_retriever()"
   ],
   "metadata": {
    "collapsed": false,
    "ExecuteTime": {
     "start_time": "2023-12-13T11:33:33.480884Z",
     "end_time": "2023-12-13T11:33:34.276105Z"
    }
   }
  },
  {
   "cell_type": "code",
   "execution_count": 154,
   "outputs": [],
   "source": [
    "def query_db(query: str, use_retriever: bool = False) -> list[str]:\n",
    "    if use_retriever:\n",
    "        docs = _retriever.get_relevant_documents(query)\n",
    "    else:\n",
    "        docs = _db.similarity_search(query)\n",
    "\n",
    "    str_docs = [doc.page_content for doc in docs]\n",
    "    return str_docs"
   ],
   "metadata": {
    "collapsed": false,
    "ExecuteTime": {
     "start_time": "2023-12-13T11:33:34.678957Z",
     "end_time": "2023-12-13T11:33:34.681040Z"
    }
   }
  },
  {
   "cell_type": "code",
   "execution_count": 171,
   "outputs": [],
   "source": [
    "query_result = query_db(\n",
    "    query=question,\n",
    "    use_retriever=True\n",
    ")"
   ],
   "metadata": {
    "collapsed": false,
    "ExecuteTime": {
     "start_time": "2023-12-13T14:05:10.975853Z",
     "end_time": "2023-12-13T14:05:11.380583Z"
    }
   }
  },
  {
   "cell_type": "markdown",
   "source": [
    "## Langchain agent\n",
    "\n",
    "- Langchain 기능을 이용해 ChromaDB를 구축하고, DB에서 데이터를 검색한다.\n",
    "- 이를 바탕으로 zeroshot react 방식으로 동작하는 agent를 만들어 질의에 답변하도록 한다"
   ],
   "metadata": {
    "collapsed": false
   }
  },
  {
   "cell_type": "code",
   "execution_count": 168,
   "outputs": [],
   "source": [
    "from langchain.agents import AgentType, Tool, initialize_agent\n",
    "from langchain.chains import RetrievalQA\n",
    "\n",
    "embeddings = OpenAIEmbeddings()\n",
    "docsearch = Chroma.from_documents(\n",
    "    texts,\n",
    "    embeddings,\n",
    "    collection_name=\"kakao_sync\"\n",
    ")\n",
    "\n",
    "qa_tool = RetrievalQA.from_chain_type(\n",
    "    llm=llm,\n",
    "    chain_type=\"stuff\",\n",
    "    retriever=docsearch.as_retriever(search_kwargs={\"k\": 1})\n",
    ")\n",
    "\n",
    "tools = [\n",
    "    Tool(\n",
    "        name=\"document of Kakao Sync service\",\n",
    "        func=qa_tool.run,\n",
    "        description=\"카카오 싱크에 대한 질문에 한글로 설명해줘\"\n",
    "    )\n",
    "]\n",
    "\n",
    "agent = initialize_agent(\n",
    "    tools,\n",
    "    llm,\n",
    "    agent=AgentType.ZERO_SHOT_REACT_DESCRIPTION,\n",
    "    verbose=True,\n",
    "    stream_prefix = True\n",
    ")"
   ],
   "metadata": {
    "collapsed": false
   }
  },
  {
   "cell_type": "markdown",
   "source": [
    "### `agent.invoke`, `agent.run`는 비슷한 함수지만 결과에 있어 차이가 있음 (input 메시지를 포함하느냐 안하냐의 차이)"
   ],
   "metadata": {
    "collapsed": false
   }
  },
  {
   "cell_type": "code",
   "execution_count": 166,
   "outputs": [
    {
     "name": "stdout",
     "output_type": "stream",
     "text": [
      "\n",
      "\n",
      "\u001B[1m> Entering new AgentExecutor chain...\u001B[0m\n",
      "\u001B[32;1m\u001B[1;3m 카카오싱크 기능이 무엇인지 알아보자\n",
      "Action: document of Kakao Sync service\n",
      "Action Input: 카카오 싱크에 대한 질문에 한글로 설명해줘\u001B[0m\n",
      "Observation: \u001B[36;1m\u001B[1;3m 카카오싱크는 소셜 로그인인 카카오 로그인을 통해 보다 편리하게 서비스에 가입할 수 있도록 도와주는 비즈니스 솔루션입니다. 간편가입 기능을 통해 서비스 약관 동의 절차를 생략할 수 있고, 더 다양한 사용자 정보를 활\u001B[0m\n",
      "Thought:\u001B[32;1m\u001B[1;3m 카카오싱크 기능은 간편가입 기능과 다양한 사용자 정보를 활용하는 기능이 있다는 것을 알았다.\n",
      "Final Answer: 카카오싱크는 소셜 로그인인 카카오 로그인을 통해 보다 편리하게 서비스에 가입할 수 있도록 도와주는 비즈니스 솔\u001B[0m\n",
      "\n",
      "\u001B[1m> Finished chain.\u001B[0m\n"
     ]
    },
    {
     "data": {
      "text/plain": "'카카오싱크는 소셜 로그인인 카카오 로그인을 통해 보다 편리하게 서비스에 가입할 수 있도록 도와주는 비즈니스 솔'"
     },
     "execution_count": 166,
     "metadata": {},
     "output_type": "execute_result"
    }
   ],
   "source": [
    "agent.run(\n",
    "        f\"{question}\"\n",
    "    )"
   ],
   "metadata": {
    "collapsed": false
   }
  },
  {
   "cell_type": "code",
   "execution_count": 167,
   "outputs": [
    {
     "name": "stdout",
     "output_type": "stream",
     "text": [
      "\n",
      "\n",
      "\u001B[1m> Entering new AgentExecutor chain...\u001B[0m\n",
      "\u001B[32;1m\u001B[1;3m 카카오싱크 기능이 무엇인지 알아보자\n",
      "Action: document of Kakao Sync service\n",
      "Action Input: 카카오 싱크에 대한 질문에 한글로 설명해줘\u001B[0m\n",
      "Observation: \u001B[36;1m\u001B[1;3m 카카오싱크는 소셜 로그인인 카카오 로그인을 통해 보다 편리하게 서비스에 가입할 수 있도록 도와주는 비즈니스 솔루션입니다. 간편가입 기능을 통해 서비스 약관 동의 절차를 생략할 수 있고, 더 다양한 사용자 정보를 활\u001B[0m\n",
      "Thought:\u001B[32;1m\u001B[1;3m 카카오싱크 기능은 간편가입 기능과 다양한 사용자 정보를 활용하는 기능이 있다는 것을 알았다.\n",
      "Final Answer: 카카오싱크는 소셜 로그인인 카카오 로그인을 통해 보다 편리하게 서비스에 가입할 수 있도록 도와주는 비즈니스 솔\u001B[0m\n",
      "\n",
      "\u001B[1m> Finished chain.\u001B[0m\n"
     ]
    },
    {
     "data": {
      "text/plain": "{'input': '카카오싱크 기능이 무엇이 있는지 설명해주세요',\n 'output': '카카오싱크는 소셜 로그인인 카카오 로그인을 통해 보다 편리하게 서비스에 가입할 수 있도록 도와주는 비즈니스 솔'}"
     },
     "execution_count": 167,
     "metadata": {},
     "output_type": "execute_result"
    }
   ],
   "source": [
    "agent.invoke(\n",
    "        f\"{question}\"\n",
    "    )"
   ],
   "metadata": {
    "collapsed": false
   }
  },
  {
   "cell_type": "markdown",
   "source": [
    "## Langchain agent 함수화"
   ],
   "metadata": {
    "collapsed": false
   }
  },
  {
   "cell_type": "code",
   "execution_count": 178,
   "outputs": [],
   "source": [
    "from langchain.vectorstores import Chroma\n",
    "from langchain.embeddings.openai import OpenAIEmbeddings\n",
    "\n",
    "def search_db(query: str):\n",
    "    _db = Chroma.from_documents(\n",
    "        texts,\n",
    "        OpenAIEmbeddings(),\n",
    "        collection_name=\"kakao_sync\",\n",
    "    )\n",
    "\n",
    "    _retriever = _db.as_retriever()\n",
    "\n",
    "    query_result = query_db(\n",
    "        query=question,\n",
    "        use_retriever=True,\n",
    "    )\n",
    "\n",
    "    search_results = []\n",
    "    for document in query_result:\n",
    "        search_results.append(\n",
    "            {\n",
    "                \"content\": document.split(':')[1]\n",
    "            }\n",
    "        )\n",
    "\n",
    "    return search_results\n",
    "\n",
    "utterance = question\n",
    "\n",
    "functions = [\n",
    "    {\n",
    "        \"name\": \"find_kakao_db\",\n",
    "        \"func\": lambda x: search_db(utterance),\n",
    "        \"description\": \"카카오 싱크에 대한 질문에 답변한다\"\n",
    "    }\n",
    "]"
   ],
   "metadata": {
    "collapsed": false,
    "ExecuteTime": {
     "start_time": "2023-12-13T14:07:33.796837Z",
     "end_time": "2023-12-13T14:07:33.798991Z"
    }
   }
  },
  {
   "cell_type": "code",
   "execution_count": 183,
   "outputs": [],
   "source": [
    "from langchain.chat_models import ChatOpenAI\n",
    "from langchain.schema import SystemMessage\n",
    "from langchain.prompts.chat import (\n",
    "    ChatPromptTemplate,\n",
    "    HumanMessagePromptTemplate,\n",
    ")\n",
    "from langchain.chains import LLMChain\n",
    "\n",
    "def prompt_with_langchain(query, temperature=0.0, model=\"gpt-3.5-turbo\", functions=None):\n",
    "    system_message = \"assistant는 user의 내용을 bullet point 3줄로 요약하라. 영어인 경우 한국어로 번역해서 요약하라.\"\n",
    "    system_message_prompt = SystemMessage(content=system_message)\n",
    "\n",
    "    human_template = \"{query}위 내용을 bullet point로 3줄로 한국어로 요약해\"\n",
    "    human_message_prompt = HumanMessagePromptTemplate.from_template(human_template)\n",
    "\n",
    "    chat_prompt = ChatPromptTemplate.from_messages([system_message_prompt,\n",
    "                                                    human_message_prompt])\n",
    "\n",
    "    llm = ChatOpenAI(model=model, temperature=temperature)\n",
    "\n",
    "    if functions != None :\n",
    "        print(\"functions 사용\")\n",
    "        tools = [\n",
    "            Tool(\n",
    "                **func\n",
    "            ) for func in functions\n",
    "        ]\n",
    "        agent = initialize_agent(tools, llm, agent=AgentType.OPENAI_FUNCTIONS, verbose=True)\n",
    "\n",
    "        final_result = agent.run(query)\n",
    "        return final_result\n",
    "    else :\n",
    "        print(\"functions 미사용\")\n",
    "        agent = LLMChain(llm=llm, prompt=chat_prompt)\n",
    "        return agent.run(query)\n"
   ],
   "metadata": {
    "collapsed": false,
    "ExecuteTime": {
     "start_time": "2023-12-13T14:08:12.225226Z",
     "end_time": "2023-12-13T14:08:12.227702Z"
    }
   }
  },
  {
   "cell_type": "code",
   "execution_count": 185,
   "outputs": [
    {
     "name": "stdout",
     "output_type": "stream",
     "text": [
      "[{'name': 'find_kakao_db', 'func': <function <lambda> at 0x2feb9f370>, 'description': '카카오 싱크에 대한 질문에 답변한다'}]\n",
      "functions 사용\n",
      "\n",
      "\n",
      "\u001B[1m> Entering new AgentExecutor chain...\u001B[0m\n",
      "\u001B[32;1m\u001B[1;3m카카오싱크는 카카오 플랫폼과 연동하여 다양한 기능을 제공하는 서비스입니다. 주요 기능은 다음과 같습니다:\n",
      "\n",
      "1. 회원가입 및 로그인: 카카오 계정을 이용하여 간편하게 회원가입 및 로그인을 할 수 있습니다. 이를 통해 사용자의 정보를 수집하고 관리할 수 있습니다.\n",
      "\n",
      "2. 개인정보 제공 동의: 사용자에게 개인정보 제공에 대한 동의를 받을 수 있습니다. 이를 통해 사용자의 개인정보를 수집하고 활용할 수 있습니다.\n",
      "\n",
      "3. 카카오톡 채널 연동: 카카오톡 채널과 연동하여 메시지를 보낼 수 있습니다. 사용자에게 다양한 정보를 제공하거나 이벤트 등을 안내할 수 있습니다.\n",
      "\n",
      "4. 결제 기능: 카카오페이를 이용하여 간편한 결제를 제공할 수 있습니다. 사용자는 카카오페이를 통해 쉽고 안전하게 결제할 수 있습니다.\n",
      "\n",
      "5. 공유 기능: 사용자가 카카오톡을 통해 내용을 공유할 수 있도록 도와줍니다. 이를 통해 마케팅 효과를 극대화할 수 있습니다.\n",
      "\n",
      "6. 푸시 알림: 사용자에게 푸시 알림을 보낼 수 있습니다. 이를 통해 이벤트, 할인 혜택 등을 알리거나 중요한 정보를 전달할 수 있습니다.\n",
      "\n",
      "7. 데이터 분석: 카카오싱크를 통해 수집한 사용자 정보를 분석하여 마케팅 전략을 수립할 수 있습니다. 사용자의 행동 패턴을 파악하고 맞춤형 서비스를 제공할 수 있습니다.\n",
      "\n",
      "이 외에도 다양한 기능이 제공되며, 기업의 요구에 맞게 커스터마이징할 수 있습니다.\u001B[0m\n",
      "\n",
      "\u001B[1m> Finished chain.\u001B[0m\n"
     ]
    },
    {
     "data": {
      "text/plain": "'카카오싱크는 카카오 플랫폼과 연동하여 다양한 기능을 제공하는 서비스입니다. 주요 기능은 다음과 같습니다:\\n\\n1. 회원가입 및 로그인: 카카오 계정을 이용하여 간편하게 회원가입 및 로그인을 할 수 있습니다. 이를 통해 사용자의 정보를 수집하고 관리할 수 있습니다.\\n\\n2. 개인정보 제공 동의: 사용자에게 개인정보 제공에 대한 동의를 받을 수 있습니다. 이를 통해 사용자의 개인정보를 수집하고 활용할 수 있습니다.\\n\\n3. 카카오톡 채널 연동: 카카오톡 채널과 연동하여 메시지를 보낼 수 있습니다. 사용자에게 다양한 정보를 제공하거나 이벤트 등을 안내할 수 있습니다.\\n\\n4. 결제 기능: 카카오페이를 이용하여 간편한 결제를 제공할 수 있습니다. 사용자는 카카오페이를 통해 쉽고 안전하게 결제할 수 있습니다.\\n\\n5. 공유 기능: 사용자가 카카오톡을 통해 내용을 공유할 수 있도록 도와줍니다. 이를 통해 마케팅 효과를 극대화할 수 있습니다.\\n\\n6. 푸시 알림: 사용자에게 푸시 알림을 보낼 수 있습니다. 이를 통해 이벤트, 할인 혜택 등을 알리거나 중요한 정보를 전달할 수 있습니다.\\n\\n7. 데이터 분석: 카카오싱크를 통해 수집한 사용자 정보를 분석하여 마케팅 전략을 수립할 수 있습니다. 사용자의 행동 패턴을 파악하고 맞춤형 서비스를 제공할 수 있습니다.\\n\\n이 외에도 다양한 기능이 제공되며, 기업의 요구에 맞게 커스터마이징할 수 있습니다.'"
     },
     "execution_count": 185,
     "metadata": {},
     "output_type": "execute_result"
    }
   ],
   "source": [
    "prompt_with_langchain(question, functions=functions)"
   ],
   "metadata": {
    "collapsed": false,
    "ExecuteTime": {
     "start_time": "2023-12-13T14:08:23.621223Z",
     "end_time": "2023-12-13T14:08:39.598924Z"
    }
   }
  },
  {
   "cell_type": "code",
   "execution_count": null,
   "outputs": [],
   "source": [],
   "metadata": {
    "collapsed": false
   }
  }
 ],
 "metadata": {
  "kernelspec": {
   "display_name": "Python 3",
   "language": "python",
   "name": "python3"
  },
  "language_info": {
   "codemirror_mode": {
    "name": "ipython",
    "version": 2
   },
   "file_extension": ".py",
   "mimetype": "text/x-python",
   "name": "python",
   "nbconvert_exporter": "python",
   "pygments_lexer": "ipython2",
   "version": "2.7.6"
  }
 },
 "nbformat": 4,
 "nbformat_minor": 0
}
